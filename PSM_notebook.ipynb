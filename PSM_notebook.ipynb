{
 "cells": [
  {
   "cell_type": "code",
   "execution_count": 1,
   "id": "f0f23cc7-6c18-4442-9c0d-d2f74ff7ab95",
   "metadata": {},
   "outputs": [],
   "source": [
    "import os\n",
    "import argparse\n",
    "\n",
    "from torch.backends import cudnn\n",
    "from utils.utils import *\n",
    "\n",
    "from solver import Solver\n",
    "\n",
    "\n",
    "def str2bool(v):\n",
    "    return v.lower() in ('true')\n",
    "\n",
    "\n",
    "def main(config):\n",
    "    cudnn.benchmark = True\n",
    "    if (not os.path.exists(config.model_save_path)):\n",
    "        mkdir(config.model_save_path)\n",
    "    solver = Solver(vars(config))\n",
    "\n",
    "    if config.mode == 'train':\n",
    "        solver.train()\n",
    "    elif config.mode == 'test':\n",
    "        solver.test()\n",
    "\n",
    "    return solver"
   ]
  },
  {
   "cell_type": "code",
   "execution_count": 2,
   "id": "3be1900e-8bd4-45ba-9187-5d18685a5467",
   "metadata": {},
   "outputs": [
    {
     "data": {
      "text/plain": [
       "{'lr': 0.0001,\n",
       " 'num_epochs': 5,\n",
       " 'k': 3,\n",
       " 'win_size': 100,\n",
       " 'input_c': 25,\n",
       " 'output_c': 25,\n",
       " 'batch_size': 256,\n",
       " 'pretrained_model': None,\n",
       " 'dataset': 'PSM',\n",
       " 'mode': 'train',\n",
       " 'data_path': 'dataset/PSM',\n",
       " 'model_save_path': 'checkpoints',\n",
       " 'anormly_ratio': 1.0}"
      ]
     },
     "execution_count": 2,
     "metadata": {},
     "output_type": "execute_result"
    }
   ],
   "source": [
    "parser = argparse.ArgumentParser()\n",
    "\n",
    "parser.add_argument('--lr', type=float, default=1e-4)\n",
    "parser.add_argument('--num_epochs', type=int, default=5)\n",
    "parser.add_argument('--k', type=int, default=3)\n",
    "parser.add_argument('--win_size', type=int, default=100)\n",
    "parser.add_argument('--input_c', type=int, default=25)\n",
    "parser.add_argument('--output_c', type=int, default=25)\n",
    "parser.add_argument('--batch_size', type=int, default=256)\n",
    "parser.add_argument('--pretrained_model', type=str, default=None)\n",
    "parser.add_argument('--dataset', type=str, default='PSM')\n",
    "parser.add_argument('--mode', type=str, default='train', choices=['train', 'test'])\n",
    "parser.add_argument('--data_path', type=str, default='dataset/PSM')\n",
    "parser.add_argument('--model_save_path', type=str, default='checkpoints')\n",
    "parser.add_argument('--anormly_ratio', type=float, default=1.0)\n",
    "\n",
    "config = parser.parse_args(args=[])\n",
    "args = vars(config)\n",
    "args"
   ]
  },
  {
   "cell_type": "code",
   "execution_count": 3,
   "id": "a88479c5-17c1-4056-9a64-9693d704b2a8",
   "metadata": {},
   "outputs": [
    {
     "name": "stdout",
     "output_type": "stream",
     "text": [
      "test: (87841, 25)\n",
      "train: (132481, 25)\n",
      "test: (87841, 25)\n",
      "train: (132481, 25)\n",
      "test: (87841, 25)\n",
      "train: (132481, 25)\n",
      "test: (87841, 25)\n",
      "train: (132481, 25)\n",
      "======================TRAIN MODE======================\n",
      "\tspeed: 0.4279s/iter; left time: 1065.9146s\n",
      "\tspeed: 0.4234s/iter; left time: 1012.4511s\n",
      "\tspeed: 0.4234s/iter; left time: 970.1138s\n",
      "\tspeed: 0.4234s/iter; left time: 927.6265s\n",
      "\tspeed: 0.4234s/iter; left time: 885.2625s\n",
      "Epoch: 1 cost time: 219.91230845451355\n",
      "Epoch: 1, Steps: 518 | Train Loss: -45.0802273 Vali Loss: -47.9607200 \n",
      "Validation loss decreased (inf --> -47.960720).  Saving model ...\n",
      "Updating learning rate to 0.0001\n",
      "\tspeed: 1.0136s/iter; left time: 1999.8177s\n",
      "\tspeed: 0.4233s/iter; left time: 792.8929s\n",
      "\tspeed: 0.4233s/iter; left time: 750.5657s\n",
      "\tspeed: 0.4233s/iter; left time: 708.2021s\n",
      "\tspeed: 0.4233s/iter; left time: 665.8670s\n",
      "Epoch: 2 cost time: 218.88958311080933\n",
      "Epoch: 2, Steps: 518 | Train Loss: -48.2569961 Vali Loss: -48.4073004 \n",
      "EarlyStopping counter: 1 out of 3\n",
      "Updating learning rate to 5e-05\n",
      "\tspeed: 1.0083s/iter; left time: 1467.0246s\n",
      "\tspeed: 0.4232s/iter; left time: 573.4389s\n",
      "\tspeed: 0.4232s/iter; left time: 531.1503s\n",
      "\tspeed: 0.4232s/iter; left time: 488.8176s\n",
      "\tspeed: 0.4232s/iter; left time: 446.5190s\n",
      "Epoch: 3 cost time: 218.84352612495422\n",
      "Epoch: 3, Steps: 518 | Train Loss: -48.6451963 Vali Loss: -48.7133306 \n",
      "EarlyStopping counter: 2 out of 3\n",
      "Updating learning rate to 2.5e-05\n",
      "\tspeed: 1.0081s/iter; left time: 944.5503s\n",
      "\tspeed: 0.4232s/iter; left time: 354.1994s\n",
      "\tspeed: 0.4232s/iter; left time: 311.8956s\n",
      "\tspeed: 0.4232s/iter; left time: 269.5649s\n",
      "\tspeed: 0.4232s/iter; left time: 227.2404s\n",
      "Epoch: 4 cost time: 218.82590007781982\n",
      "Epoch: 4, Steps: 518 | Train Loss: -48.8309550 Vali Loss: -48.7867965 \n",
      "EarlyStopping counter: 3 out of 3\n",
      "Early stopping\n"
     ]
    },
    {
     "data": {
      "text/plain": [
       "<solver.Solver at 0x7efeb7a522a0>"
      ]
     },
     "execution_count": 3,
     "metadata": {},
     "output_type": "execute_result"
    }
   ],
   "source": [
    "main(config)"
   ]
  },
  {
   "cell_type": "code",
   "execution_count": 4,
   "id": "89c7a269-51a7-4a34-9886-4948727d8d52",
   "metadata": {},
   "outputs": [
    {
     "data": {
      "text/plain": [
       "{'lr': 0.0001,\n",
       " 'num_epochs': 3,\n",
       " 'k': 3,\n",
       " 'win_size': 100,\n",
       " 'input_c': 25,\n",
       " 'output_c': 25,\n",
       " 'batch_size': 256,\n",
       " 'pretrained_model': '20',\n",
       " 'dataset': 'PSM',\n",
       " 'mode': 'test',\n",
       " 'data_path': 'dataset/PSM',\n",
       " 'model_save_path': 'checkpoints',\n",
       " 'anormly_ratio': 1.0}"
      ]
     },
     "execution_count": 4,
     "metadata": {},
     "output_type": "execute_result"
    }
   ],
   "source": [
    "parser = argparse.ArgumentParser()\n",
    "\n",
    "parser.add_argument('--lr', type=float, default=1e-4)\n",
    "parser.add_argument('--num_epochs', type=int, default=3)\n",
    "parser.add_argument('--k', type=int, default=3)\n",
    "parser.add_argument('--win_size', type=int, default=100)\n",
    "parser.add_argument('--input_c', type=int, default=25)\n",
    "parser.add_argument('--output_c', type=int, default=25)\n",
    "parser.add_argument('--batch_size', type=int, default=256)\n",
    "parser.add_argument('--pretrained_model', type=str, default='20')\n",
    "parser.add_argument('--dataset', type=str, default='PSM')\n",
    "parser.add_argument('--mode', type=str, default='test', choices=['train', 'test'])\n",
    "parser.add_argument('--data_path', type=str, default='dataset/PSM')\n",
    "parser.add_argument('--model_save_path', type=str, default='checkpoints')\n",
    "parser.add_argument('--anormly_ratio', type=float, default=1.0)\n",
    "\n",
    "config = parser.parse_args(args=[])\n",
    "args = vars(config)\n",
    "args"
   ]
  },
  {
   "cell_type": "code",
   "execution_count": 5,
   "id": "0cdebe89-3e94-4c54-849c-48efa7084211",
   "metadata": {},
   "outputs": [
    {
     "name": "stdout",
     "output_type": "stream",
     "text": [
      "test: (87841, 25)\n",
      "train: (132481, 25)\n",
      "test: (87841, 25)\n",
      "train: (132481, 25)\n",
      "test: (87841, 25)\n",
      "train: (132481, 25)\n",
      "test: (87841, 25)\n",
      "train: (132481, 25)\n",
      "======================TEST MODE======================\n"
     ]
    },
    {
     "name": "stderr",
     "output_type": "stream",
     "text": [
      "/usr/local/lib64/python3.12/site-packages/torch/nn/_reduction.py:42: UserWarning: size_average and reduce args will be deprecated, please use reduction='none' instead.\n",
      "  warnings.warn(warning.format(ret))\n"
     ]
    },
    {
     "name": "stdout",
     "output_type": "stream",
     "text": [
      "Threshold : 0.003702119200024723\n",
      "pred:    (87800,)\n",
      "gt:      (87800,)\n",
      "pred:  (87800,)\n",
      "gt:    (87800,)\n",
      "Accuracy : 0.9862, Precision : 0.9730, Recall : 0.9772, F-score : 0.9751 \n"
     ]
    },
    {
     "data": {
      "text/plain": [
       "<solver.Solver at 0x7efea6025ac0>"
      ]
     },
     "execution_count": 5,
     "metadata": {},
     "output_type": "execute_result"
    }
   ],
   "source": [
    "main(config)"
   ]
  },
  {
   "cell_type": "code",
   "execution_count": null,
   "id": "bc708995-ac50-49aa-b3af-87de580ae381",
   "metadata": {},
   "outputs": [],
   "source": []
  }
 ],
 "metadata": {
  "kernelspec": {
   "display_name": "Python 3 (ipykernel)",
   "language": "python",
   "name": "python3"
  },
  "language_info": {
   "codemirror_mode": {
    "name": "ipython",
    "version": 3
   },
   "file_extension": ".py",
   "mimetype": "text/x-python",
   "name": "python",
   "nbconvert_exporter": "python",
   "pygments_lexer": "ipython3",
   "version": "3.12.8"
  }
 },
 "nbformat": 4,
 "nbformat_minor": 5
}
